{
 "cells": [
  {
   "cell_type": "markdown",
   "metadata": {},
   "source": [
    "# SOMACHINE 2021\n",
    "## Machine Learning, Big Data, and Deep Learning in Astronomy\n",
    "-----\n",
    "### A Severo Ochoa School of the Instituto de Astrofísica de Andalucía (CSIC)\n",
    "\n",
    "![SOMACHINE](SOMACHINE_LOGOS.png)\n",
    "\n",
    "### Workshop Tutorials\n",
    "\n",
    "- **Practical ML: Scikit-learn**  (Juan Antonio Cortés, UGR)\n",
    "  - [Practical ML: Scikit-learn](./tutorial_01_ML/tutorial_01_ML.ipynb)\n",
    "- **Practical DL with Keras TensorFlow and PyTorch: A Quick Glance** (Francisco Pérez, UGR)\n",
    "   - [Practical Deep Learning_ A quick glance (slides)](./tutorial_05_DL_keras/Practical%20Deep%20Learning_%20A%20quick%20glance.pdf)\n",
    "   - [Data preparation](./tutorial_05_DL_keras/galaxy_data_preparation.ipynb) \n",
    "   - [Galaxy Classification](./tutorial_05_DL_keras/galaxy_classification.ipynb) \n"
   ]
  }
 ],
 "metadata": {
  "kernelspec": {
   "display_name": "Python 3",
   "language": "python",
   "name": "python3"
  },
  "language_info": {
   "codemirror_mode": {
    "name": "ipython",
    "version": 3
   },
   "file_extension": ".py",
   "mimetype": "text/x-python",
   "name": "python",
   "nbconvert_exporter": "python",
   "pygments_lexer": "ipython3",
   "version": "3.7.4"
  }
 },
 "nbformat": 4,
 "nbformat_minor": 4
}
